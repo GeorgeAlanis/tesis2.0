{
 "cells": [
  {
   "cell_type": "code",
   "execution_count": 1,
   "metadata": {},
   "outputs": [],
   "source": [
    "#This is magic, don't touch it\n",
    "%matplotlib inline\n",
    "%load_ext autoreload\n",
    "%autoreload 2"
   ]
  },
  {
   "cell_type": "code",
   "execution_count": 2,
   "metadata": {},
   "outputs": [],
   "source": [
    "from sklearn.feature_extraction.text import TfidfVectorizer\n",
    "from sklearn.feature_extraction.text import CountVectorizer\n",
    "from sklearn.feature_extraction.text import TfidfTransformer\n",
    "from html import unescape\n",
    "import pandas as pd\n",
    "import numpy as np\n",
    "import re\n"
   ]
  },
  {
   "cell_type": "code",
   "execution_count": 13,
   "metadata": {},
   "outputs": [],
   "source": [
    "with open('../corpus/registroactocom.csv', 'r') as file:\n",
    "    unescaped_text = unescape(file.read())\n",
    "    with open('../corpus/unescaped_text.csv', 'w') as unescaped_file:\n",
    "        unescaped_file.write(unescaped_text)\n",
    "    with open('../corpus/clean_text.csv', 'w') as clean_file:    \n",
    "        clean_file.write(unescaped_text.replace('<p>', '')\\\n",
    "                         .replace('</p>', '')\\\n",
    "                         .replace('\\r','')\\\n",
    "                         .replace('\\xa0', ' '))\n",
    "    with open('../corpus/regex_clean_text.csv','w') as regex_file:\n",
    "        regex_file.write(re.sub('<.*?>','',unescaped_text, flags=re.DOTALL)\\\n",
    "                         .replace('\\r','')\\\n",
    "                         .replace('\\xa0', ' '))\n",
    "    "
   ]
  },
  {
   "cell_type": "code",
   "execution_count": 14,
   "metadata": {},
   "outputs": [],
   "source": [
    "raw_dataset = pd.read_csv('../corpus/regex_clean_text.csv', header=0)"
   ]
  },
  {
   "cell_type": "code",
   "execution_count": 15,
   "metadata": {},
   "outputs": [
    {
     "data": {
      "text/html": [
       "<div>\n",
       "<style scoped>\n",
       "    .dataframe tbody tr th:only-of-type {\n",
       "        vertical-align: middle;\n",
       "    }\n",
       "\n",
       "    .dataframe tbody tr th {\n",
       "        vertical-align: top;\n",
       "    }\n",
       "\n",
       "    .dataframe thead th {\n",
       "        text-align: right;\n",
       "    }\n",
       "</style>\n",
       "<table border=\"1\" class=\"dataframe\">\n",
       "  <thead>\n",
       "    <tr style=\"text-align: right;\">\n",
       "      <th></th>\n",
       "      <th>segmento_id</th>\n",
       "      <th>acto_id</th>\n",
       "      <th>titulo</th>\n",
       "      <th>palabrasclave</th>\n",
       "      <th>transcripcion</th>\n",
       "      <th>latitudp</th>\n",
       "      <th>longitudp</th>\n",
       "    </tr>\n",
       "  </thead>\n",
       "  <tbody>\n",
       "    <tr>\n",
       "      <th>0</th>\n",
       "      <td>1</td>\n",
       "      <td>1</td>\n",
       "      <td>Presentación</td>\n",
       "      <td>NaN</td>\n",
       "      <td>DEMETRIA: Nada más que yo orita ando previnien...</td>\n",
       "      <td>19.449715</td>\n",
       "      <td>-101.731987</td>\n",
       "    </tr>\n",
       "    <tr>\n",
       "      <th>1</th>\n",
       "      <td>2</td>\n",
       "      <td>2</td>\n",
       "      <td>NaN</td>\n",
       "      <td>NaN</td>\n",
       "      <td>MANUEL BAUTISTA: nosotros analizamos co, cómo,...</td>\n",
       "      <td>19.670720</td>\n",
       "      <td>-101.554051</td>\n",
       "    </tr>\n",
       "    <tr>\n",
       "      <th>2</th>\n",
       "      <td>3</td>\n",
       "      <td>5</td>\n",
       "      <td>Oficio de familia</td>\n",
       "      <td>Historia de vida</td>\n",
       "      <td>00:00\\nBERENICE: ¿Nos puede decir su nombre, s...</td>\n",
       "      <td>19.450582</td>\n",
       "      <td>-101.733160</td>\n",
       "    </tr>\n",
       "    <tr>\n",
       "      <th>3</th>\n",
       "      <td>4</td>\n",
       "      <td>4</td>\n",
       "      <td>Presentación</td>\n",
       "      <td>NaN</td>\n",
       "      <td>VIDAL: […] Y, este… este año fue que , que hiz...</td>\n",
       "      <td>19.696462</td>\n",
       "      <td>-101.198387</td>\n",
       "    </tr>\n",
       "    <tr>\n",
       "      <th>4</th>\n",
       "      <td>499</td>\n",
       "      <td>22</td>\n",
       "      <td>Nuevo Amanecer</td>\n",
       "      <td>NaN</td>\n",
       "      <td>SANTIAGO: Y tampoco queremos este obligarlos a...</td>\n",
       "      <td>0.000000</td>\n",
       "      <td>0.000000</td>\n",
       "    </tr>\n",
       "  </tbody>\n",
       "</table>\n",
       "</div>"
      ],
      "text/plain": [
       "   segmento_id  acto_id             titulo     palabrasclave  \\\n",
       "0            1        1       Presentación               NaN   \n",
       "1            2        2                NaN               NaN   \n",
       "2            3        5  Oficio de familia  Historia de vida   \n",
       "3            4        4       Presentación               NaN   \n",
       "4          499       22     Nuevo Amanecer               NaN   \n",
       "\n",
       "                                       transcripcion   latitudp   longitudp  \n",
       "0  DEMETRIA: Nada más que yo orita ando previnien...  19.449715 -101.731987  \n",
       "1  MANUEL BAUTISTA: nosotros analizamos co, cómo,...  19.670720 -101.554051  \n",
       "2  00:00\\nBERENICE: ¿Nos puede decir su nombre, s...  19.450582 -101.733160  \n",
       "3  VIDAL: […] Y, este… este año fue que , que hiz...  19.696462 -101.198387  \n",
       "4  SANTIAGO: Y tampoco queremos este obligarlos a...   0.000000    0.000000  "
      ]
     },
     "execution_count": 15,
     "metadata": {},
     "output_type": "execute_result"
    }
   ],
   "source": [
    "raw_dataset.head()"
   ]
  },
  {
   "cell_type": "code",
   "execution_count": 16,
   "metadata": {},
   "outputs": [],
   "source": [
    "new_dataset = raw_dataset.copy()"
   ]
  },
  {
   "cell_type": "code",
   "execution_count": 17,
   "metadata": {},
   "outputs": [
    {
     "data": {
      "text/html": [
       "<div>\n",
       "<style scoped>\n",
       "    .dataframe tbody tr th:only-of-type {\n",
       "        vertical-align: middle;\n",
       "    }\n",
       "\n",
       "    .dataframe tbody tr th {\n",
       "        vertical-align: top;\n",
       "    }\n",
       "\n",
       "    .dataframe thead th {\n",
       "        text-align: right;\n",
       "    }\n",
       "</style>\n",
       "<table border=\"1\" class=\"dataframe\">\n",
       "  <thead>\n",
       "    <tr style=\"text-align: right;\">\n",
       "      <th></th>\n",
       "      <th>segmento_id</th>\n",
       "      <th>transcripcion</th>\n",
       "    </tr>\n",
       "  </thead>\n",
       "  <tbody>\n",
       "    <tr>\n",
       "      <th>0</th>\n",
       "      <td>1</td>\n",
       "      <td>DEMETRIA: Nada más que yo orita ando previnien...</td>\n",
       "    </tr>\n",
       "    <tr>\n",
       "      <th>1</th>\n",
       "      <td>2</td>\n",
       "      <td>MANUEL BAUTISTA: nosotros analizamos co, cómo,...</td>\n",
       "    </tr>\n",
       "    <tr>\n",
       "      <th>2</th>\n",
       "      <td>3</td>\n",
       "      <td>00:00\\nBERENICE: ¿Nos puede decir su nombre, s...</td>\n",
       "    </tr>\n",
       "    <tr>\n",
       "      <th>3</th>\n",
       "      <td>4</td>\n",
       "      <td>VIDAL: […] Y, este… este año fue que , que hiz...</td>\n",
       "    </tr>\n",
       "    <tr>\n",
       "      <th>4</th>\n",
       "      <td>499</td>\n",
       "      <td>SANTIAGO: Y tampoco queremos este obligarlos a...</td>\n",
       "    </tr>\n",
       "    <tr>\n",
       "      <th>...</th>\n",
       "      <td>...</td>\n",
       "      <td>...</td>\n",
       "    </tr>\n",
       "    <tr>\n",
       "      <th>404</th>\n",
       "      <td>659</td>\n",
       "      <td>GEORGINA: ¿Y sí encontraron ellos el dinero?\\n...</td>\n",
       "    </tr>\n",
       "    <tr>\n",
       "      <th>405</th>\n",
       "      <td>660</td>\n",
       "      <td>GEORGINA: ¿O sea no a cualquiera les toca, pue...</td>\n",
       "    </tr>\n",
       "    <tr>\n",
       "      <th>406</th>\n",
       "      <td>661</td>\n",
       "      <td>GEORGINA: ¿Su papá entonces tampoco agarro din...</td>\n",
       "    </tr>\n",
       "    <tr>\n",
       "      <th>407</th>\n",
       "      <td>662</td>\n",
       "      <td>GEORGINA: ¿Cómo hace cuanto dejo de escuchar q...</td>\n",
       "    </tr>\n",
       "    <tr>\n",
       "      <th>408</th>\n",
       "      <td>663</td>\n",
       "      <td>GEORGINA: ¡Pues muchas gracias! ¿Algo más que ...</td>\n",
       "    </tr>\n",
       "  </tbody>\n",
       "</table>\n",
       "<p>409 rows × 2 columns</p>\n",
       "</div>"
      ],
      "text/plain": [
       "     segmento_id                                      transcripcion\n",
       "0              1  DEMETRIA: Nada más que yo orita ando previnien...\n",
       "1              2  MANUEL BAUTISTA: nosotros analizamos co, cómo,...\n",
       "2              3  00:00\\nBERENICE: ¿Nos puede decir su nombre, s...\n",
       "3              4  VIDAL: […] Y, este… este año fue que , que hiz...\n",
       "4            499  SANTIAGO: Y tampoco queremos este obligarlos a...\n",
       "..           ...                                                ...\n",
       "404          659  GEORGINA: ¿Y sí encontraron ellos el dinero?\\n...\n",
       "405          660  GEORGINA: ¿O sea no a cualquiera les toca, pue...\n",
       "406          661  GEORGINA: ¿Su papá entonces tampoco agarro din...\n",
       "407          662  GEORGINA: ¿Cómo hace cuanto dejo de escuchar q...\n",
       "408          663  GEORGINA: ¡Pues muchas gracias! ¿Algo más que ...\n",
       "\n",
       "[409 rows x 2 columns]"
      ]
     },
     "execution_count": 17,
     "metadata": {},
     "output_type": "execute_result"
    }
   ],
   "source": [
    "new_dataset.drop(columns=['titulo','palabrasclave','acto_id','latitudp','longitudp'])"
   ]
  },
  {
   "cell_type": "code",
   "execution_count": 18,
   "metadata": {
    "scrolled": true
   },
   "outputs": [
    {
     "data": {
      "text/plain": [
       "'DEMETRIA: Nada más que yo orita ando previniendo para bañiar, [ah] eso es que lo andaba haciendo ya, sí.\\nBERENICE: A ver, no nos, no nos tardamos mucho.\\nDEMETRIA: Ajá, sí. \\nBERENICE: ¿Quién va a preguntar?\\nGEORGINA: Pues, si quiere empezamos con su nombre [mjm] ¿Cómo se llama usted?\\nDEMETRIA: Yo me llamo Demetria.\\nGEORGINA: Demetria.\\nBERENICE: ¿Y cómo se apellida? ¿Demetria qué?\\nDEMETRIA: Antonio Guzmán [mjm]. \\nBERENICE: ¿Y cuántos?\\nGEORGINA: ¿Y cuántos años tiene? \\nDEMETRIA: No, pos ya tengo setenta, setenta y dos.\\nITZI: ¿Y nació aquí en la Pacanda? \\nDEMETRIA: Sí, aquí, somos de aquí pues, nativos, sí.\\nGEORGINA: ¿Su esposo también?\\nDEMETRIA: Sí, también él, también sí, también ya está grande pues también él. Él lleva más, ganó, este, 4 años, me gana a mí. [Oh] Sí, sí. \\n '"
      ]
     },
     "execution_count": 18,
     "metadata": {},
     "output_type": "execute_result"
    }
   ],
   "source": [
    "new_dataset.transcripcion[0]\n"
   ]
  },
  {
   "cell_type": "code",
   "execution_count": 19,
   "metadata": {},
   "outputs": [],
   "source": [
    "new_dataset.to_csv('../corpus/new_dataset.csv')"
   ]
  },
  {
   "cell_type": "code",
   "execution_count": 20,
   "metadata": {},
   "outputs": [],
   "source": [
    "corpus = new_dataset.transcripcion.astype('str')"
   ]
  },
  {
   "cell_type": "code",
   "execution_count": 21,
   "metadata": {},
   "outputs": [],
   "source": [
    "tfidf_vectorizer = TfidfVectorizer(max_df= 0.5)"
   ]
  },
  {
   "cell_type": "code",
   "execution_count": 23,
   "metadata": {},
   "outputs": [
    {
     "data": {
      "text/html": [
       "<div>\n",
       "<style scoped>\n",
       "    .dataframe tbody tr th:only-of-type {\n",
       "        vertical-align: middle;\n",
       "    }\n",
       "\n",
       "    .dataframe tbody tr th {\n",
       "        vertical-align: top;\n",
       "    }\n",
       "\n",
       "    .dataframe thead th {\n",
       "        text-align: right;\n",
       "    }\n",
       "</style>\n",
       "<table border=\"1\" class=\"dataframe\">\n",
       "  <thead>\n",
       "    <tr style=\"text-align: right;\">\n",
       "      <th></th>\n",
       "      <th>term</th>\n",
       "      <th>weight</th>\n",
       "    </tr>\n",
       "  </thead>\n",
       "  <tbody>\n",
       "    <tr>\n",
       "      <th>1098</th>\n",
       "      <td>berenice</td>\n",
       "      <td>0.043811</td>\n",
       "    </tr>\n",
       "    <tr>\n",
       "      <th>6555</th>\n",
       "      <td>pus</td>\n",
       "      <td>0.042201</td>\n",
       "    </tr>\n",
       "    <tr>\n",
       "      <th>5245</th>\n",
       "      <td>mso</td>\n",
       "      <td>0.031414</td>\n",
       "    </tr>\n",
       "    <tr>\n",
       "      <th>8697</th>\n",
       "      <td>él</td>\n",
       "      <td>0.031383</td>\n",
       "    </tr>\n",
       "    <tr>\n",
       "      <th>5106</th>\n",
       "      <td>mi</td>\n",
       "      <td>0.031223</td>\n",
       "    </tr>\n",
       "    <tr>\n",
       "      <th>...</th>\n",
       "      <td>...</td>\n",
       "      <td>...</td>\n",
       "    </tr>\n",
       "    <tr>\n",
       "      <th>5715</th>\n",
       "      <td>pacanda</td>\n",
       "      <td>0.011601</td>\n",
       "    </tr>\n",
       "    <tr>\n",
       "      <th>3463</th>\n",
       "      <td>están</td>\n",
       "      <td>0.011578</td>\n",
       "    </tr>\n",
       "    <tr>\n",
       "      <th>8201</th>\n",
       "      <td>tú</td>\n",
       "      <td>0.011367</td>\n",
       "    </tr>\n",
       "    <tr>\n",
       "      <th>5823</th>\n",
       "      <td>parte</td>\n",
       "      <td>0.011363</td>\n",
       "    </tr>\n",
       "    <tr>\n",
       "      <th>5258</th>\n",
       "      <td>muchas</td>\n",
       "      <td>0.011319</td>\n",
       "    </tr>\n",
       "  </tbody>\n",
       "</table>\n",
       "<p>100 rows × 2 columns</p>\n",
       "</div>"
      ],
      "text/plain": [
       "          term    weight\n",
       "1098  berenice  0.043811\n",
       "6555       pus  0.042201\n",
       "5245       mso  0.031414\n",
       "8697        él  0.031383\n",
       "5106        mi  0.031223\n",
       "...        ...       ...\n",
       "5715   pacanda  0.011601\n",
       "3463     están  0.011578\n",
       "8201        tú  0.011367\n",
       "5823     parte  0.011363\n",
       "5258    muchas  0.011319\n",
       "\n",
       "[100 rows x 2 columns]"
      ]
     },
     "execution_count": 23,
     "metadata": {},
     "output_type": "execute_result"
    }
   ],
   "source": [
    "tfidf_matrix = tfidf_vectorizer.fit_transform(corpus)\n",
    "weights = np.asarray(tfidf_matrix.mean(axis=0)).ravel().tolist()\n",
    "weights_df = pd.DataFrame({'term': tfidf_vectorizer.get_feature_names(), 'weight': weights})\n",
    "weights_df.sort_values(by='weight', ascending=False).head(100)"
   ]
  },
  {
   "cell_type": "markdown",
   "metadata": {},
   "source": [
    "http://www.ultravioletanalytics.com/blog/tf-idf-basics-with-pandas-scikit-learn\n",
    "\n",
    "https://scikit-learn.org/stable/modules/generated/sklearn.feature_extraction.text.CountVectorizer.html\n",
    "\n",
    "https://scikit-learn.org/stable/modules/generated/sklearn.feature_extraction.text.TfidfVectorizer.html"
   ]
  },
  {
   "cell_type": "code",
   "execution_count": null,
   "metadata": {},
   "outputs": [],
   "source": []
  }
 ],
 "metadata": {
  "kernelspec": {
   "display_name": "Python 3",
   "language": "python",
   "name": "python3"
  },
  "language_info": {
   "codemirror_mode": {
    "name": "ipython",
    "version": 3
   },
   "file_extension": ".py",
   "mimetype": "text/x-python",
   "name": "python",
   "nbconvert_exporter": "python",
   "pygments_lexer": "ipython3",
   "version": "3.7.4"
  }
 },
 "nbformat": 4,
 "nbformat_minor": 2
}
